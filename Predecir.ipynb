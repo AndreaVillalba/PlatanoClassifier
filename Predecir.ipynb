{
 "cells": [
  {
   "cell_type": "code",
   "execution_count": 1,
   "metadata": {},
   "outputs": [],
   "source": [
    "import cv2\n",
    "import tensorflow as tf\n",
    "import pickle\n",
    "import numpy as np\n",
    "import pandas as pd\n",
    "import seaborn as sns\n",
    "import matplotlib.pyplot as plt\n",
    "from sklearn.metrics import confusion_matrix\n",
    "from sklearn.metrics import accuracy_score\n",
    "    \n",
    "CATEGORIES = [\"Verde\", \"Danado\", \"Maduro\"] #convierte lo que predice en numero\n",
    "\n"
   ]
  },
  {
   "cell_type": "markdown",
   "metadata": {},
   "source": [
    "# Resize\n",
    "Es importante esta parte, el tamano debe ser igual al tamano de mi muestra"
   ]
  },
  {
   "cell_type": "code",
   "execution_count": 2,
   "metadata": {},
   "outputs": [],
   "source": [
    "def prepare (filepath):\n",
    "    size= 55\n",
    "    im_arreglo=cv2.imread(filepath) # la lee y la convierte\n",
    "    resize_arreglo= cv2.resize(im_arreglo, (size,size))\n",
    "    return resize_arreglo.reshape(-1,size,size,3) #regresa la imagen que quiere tensoflow"
   ]
  },
  {
   "cell_type": "code",
   "execution_count": 3,
   "metadata": {},
   "outputs": [],
   "source": [
    "def arreglar_prediction(prediction):\n",
    "    pred=[]\n",
    "    for i in range(prediction.shape[0]):\n",
    "        mayor=[np.argmax(prediction[i])]\n",
    "        pred.append(mayor)\n",
    "    return pred\n",
    "\n"
   ]
  },
  {
   "cell_type": "code",
   "execution_count": 4,
   "metadata": {},
   "outputs": [],
   "source": [
    "def graficar(confusion):\n",
    "    matriz = pd.DataFrame(confusion, index = [i for i in CATEGORIES],\n",
    "                  columns = [i for i in CATEGORIES])\n",
    "    plt.figure(figsize = (10,7))  \n",
    "    sns.heatmap(matriz, annot=True, cmap='summer')"
   ]
  },
  {
   "cell_type": "code",
   "execution_count": 5,
   "metadata": {},
   "outputs": [],
   "source": [
    "def crear_matriz(ytest, prediction):\n",
    "    confusion = confusion_matrix(ytest, \n",
    "                                 arreglar_prediction(prediction))\n",
    "    return graficar(confusion)"
   ]
  },
  {
   "cell_type": "code",
   "execution_count": 28,
   "metadata": {},
   "outputs": [],
   "source": [
    "def predecir_foto(model, path):\n",
    "    p= model.predict(prepare(path))\n",
    "    print(\"prediccion de la imagen: \" , p)\n",
    "    return CATEGORIES[np.argmax(p)]\n",
    "    "
   ]
  },
  {
   "cell_type": "code",
   "execution_count": 7,
   "metadata": {},
   "outputs": [],
   "source": [
    "pickle_in= (open (\"modelo1/xtest\", \"rb\"))\n",
    "xtest=pickle.load(pickle_in)\n",
    "\n",
    "pickle_in= (open(\"modelo1/ytest\", \"rb\"))\n",
    "ytest=pickle.load(pickle_in)\n"
   ]
  },
  {
   "cell_type": "markdown",
   "metadata": {},
   "source": [
    "# Importar modelos"
   ]
  },
  {
   "cell_type": "code",
   "execution_count": 47,
   "metadata": {},
   "outputs": [],
   "source": [
    "#model= tf.keras.models.load_weights(\"pesos.h5\")\n",
    "model = tf.keras.models.load_model(\"modelo1/Modelo2_3conv_1dense_256size.h5\")\n",
    "p_model= model.predict(xtest)"
   ]
  },
  {
   "cell_type": "code",
   "execution_count": 40,
   "metadata": {},
   "outputs": [
    {
     "data": {
      "text/plain": [
       "array([[0., 1., 0.],\n",
       "       [0., 1., 0.],\n",
       "       [0., 0., 1.],\n",
       "       ...,\n",
       "       [0., 1., 0.],\n",
       "       [0., 0., 1.],\n",
       "       [1., 0., 0.]], dtype=float32)"
      ]
     },
     "execution_count": 40,
     "metadata": {},
     "output_type": "execute_result"
    }
   ],
   "source": [
    "p_model"
   ]
  },
  {
   "cell_type": "markdown",
   "metadata": {},
   "source": [
    "# Matriz de confusion"
   ]
  },
  {
   "cell_type": "markdown",
   "metadata": {},
   "source": [
    "**Modelo 1**\n"
   ]
  },
  {
   "cell_type": "code",
   "execution_count": 42,
   "metadata": {
    "scrolled": false
   },
   "outputs": [
    {
     "data": {
      "image/png": "[encoded data removed]",
      "text/plain": [
       "<Figure size 720x504 with 2 Axes>"
      ]
     },
     "metadata": {
      "needs_background": "light"
     },
     "output_type": "display_data"
    }
   ],
   "source": [
    "crear_matriz(ytest, p_model)"
   ]
  },
  {
   "cell_type": "code",
   "execution_count": 43,
   "metadata": {},
   "outputs": [
    {
     "name": "stdout",
     "output_type": "stream",
     "text": [
      "prediccion de la imagen:  [[1. 0. 0.]]\n"
     ]
    },
    {
     "data": {
      "text/plain": [
       "'Verde'"
      ]
     },
     "execution_count": 43,
     "metadata": {},
     "output_type": "execute_result"
    }
   ],
   "source": [
    "#\"pruebas/danado1.jfif\"\n",
    "predecir_foto(model, \"pruebas/verde3.jpg\")"
   ]
  },
  {
   "cell_type": "code",
   "execution_count": 45,
   "metadata": {},
   "outputs": [
    {
     "name": "stdout",
     "output_type": "stream",
     "text": [
      "Porcentaje de precision:  96.06837606837607 %\n"
     ]
    }
   ],
   "source": [
    "print(\"Porcentaje de precision: \", accuracy_score(ytest,arreglar_prediction(p_model))*100, \"%\")"
   ]
  }
 ],
 "metadata": {
  "kernelspec": {
   "display_name": "Python 3",
   "language": "python",
   "name": "python3"
  },
  "language_info": {
   "codemirror_mode": {
    "name": "ipython",
    "version": 3
   },
   "file_extension": ".py",
   "mimetype": "text/x-python",
   "name": "python",
   "nbconvert_exporter": "python",
   "pygments_lexer": "ipython3",
   "version": "3.7.3"
  }
 },
 "nbformat": 4,
 "nbformat_minor": 2
}
